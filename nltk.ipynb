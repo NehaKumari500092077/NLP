{
  "cells": [
    {
      "cell_type": "markdown",
      "metadata": {
        "id": "view-in-github",
        "colab_type": "text"
      },
      "source": [
        "<a href=\"https://colab.research.google.com/github/NehaKumari500092077/NLP/blob/main/nltk.ipynb\" target=\"_parent\"><img src=\"https://colab.research.google.com/assets/colab-badge.svg\" alt=\"Open In Colab\"/></a>"
      ]
    },
    {
      "cell_type": "code",
      "source": [
        "pip install nltk\n",
        "nltk.download('wordnet')\n"
      ],
      "metadata": {
        "id": "dEafWh8TV_wK",
        "outputId": "1b0c38b1-a47e-4ce7-b781-8f86c2f2a3af",
        "colab": {
          "base_uri": "https://localhost:8080/",
          "height": 133
        }
      },
      "execution_count": 6,
      "outputs": [
        {
          "output_type": "error",
          "ename": "SyntaxError",
          "evalue": "ignored",
          "traceback": [
            "\u001b[0;36m  File \u001b[0;32m\"<ipython-input-6-fa4f25376eec>\"\u001b[0;36m, line \u001b[0;32m1\u001b[0m\n\u001b[0;31m    pip install nltk\u001b[0m\n\u001b[0m              ^\u001b[0m\n\u001b[0;31mSyntaxError\u001b[0m\u001b[0;31m:\u001b[0m invalid syntax\n"
          ]
        }
      ]
    },
    {
      "cell_type": "code",
      "source": [
        "from google.colab import drive\n",
        "drive.mount('/content/drive')"
      ],
      "metadata": {
        "id": "sqi4tD1hfQEY"
      },
      "execution_count": null,
      "outputs": []
    },
    {
      "cell_type": "markdown",
      "source": [
        "# New Section"
      ],
      "metadata": {
        "id": "enkiS_tAfU9S"
      }
    },
    {
      "cell_type": "code",
      "source": [
        "import nltk\n",
        "nltk.download('wordnet')"
      ],
      "metadata": {
        "id": "S5RWMvJGWPIX",
        "outputId": "0059a3e9-43cf-4166-92b6-ffa349c5b286",
        "colab": {
          "base_uri": "https://localhost:8080/"
        }
      },
      "execution_count": 7,
      "outputs": [
        {
          "output_type": "stream",
          "name": "stdout",
          "text": [
            "[nltk_data] Downloading package wordnet to /root/nltk_data...\n",
            "[nltk_data]   Unzipping corpora/wordnet.zip.\n"
          ]
        },
        {
          "output_type": "execute_result",
          "data": {
            "text/plain": [
              "True"
            ]
          },
          "metadata": {},
          "execution_count": 7
        }
      ]
    },
    {
      "cell_type": "code",
      "source": [
        "from nltk.corpus import wordnet\n",
        "syn = list()\n",
        "ant = list()\n",
        "synset = wordnet.synsets(\"travel\")\n",
        "word1 = wordnet.synset(\"Travel.v.01\")\n",
        "word2 = wordnet.synset(\"Walk.v.01\")\n",
        "for syn1 in synset:\n",
        "  for lemma in syn1.lemmas():\n",
        "    syn.append(lemma.name())\n",
        "    if lemma.antonyms():\n",
        "      ant.append(ant.append(lemma.antonyms()[0].name()))\n",
        "\n",
        "print('Word and Type : ' + synset[0].name())\n",
        "print('Definition: ' + str(synset[0].definition()))\n",
        "print('Examples: ' + str(synset[0].examples()))\n",
        "print('Synonyms: ' + str(syn))\n",
        "print('Antonyms: ' + str(ant))\n",
        "print('Similarity: ' + str(word1.wup_similarity(word2)))\n"
      ],
      "metadata": {
        "id": "wRFk1xR9WrUE",
        "outputId": "7aad9f7c-8556-43df-aa2b-1dedbab9bb56",
        "colab": {
          "base_uri": "https://localhost:8080/"
        }
      },
      "execution_count": 35,
      "outputs": [
        {
          "output_type": "stream",
          "name": "stdout",
          "text": [
            "Word and Type : travel.n.01\n",
            "Definition: the act of going from one place to another\n",
            "Examples: ['he enjoyed selling but he hated the travel']\n",
            "Synonyms: ['travel', 'traveling', 'travelling', 'change_of_location', 'travel', 'locomotion', 'travel', 'travel', 'go', 'move', 'locomote', 'travel', 'journey', 'travel', 'trip', 'jaunt', 'travel', 'journey', 'travel', 'travel', 'move_around']\n",
            "Antonyms: ['stay_in_place', None]\n",
            "Similarity: 0.6666666666666666\n"
          ]
        }
      ]
    }
  ],
  "metadata": {
    "colab": {
      "collapsed_sections": [],
      "name": "Welcome To Colaboratory",
      "provenance": [],
      "include_colab_link": true
    },
    "kernelspec": {
      "display_name": "Python 3",
      "name": "python3"
    }
  },
  "nbformat": 4,
  "nbformat_minor": 0
}